{
 "cells": [
  {
   "cell_type": "markdown",
   "metadata": {},
   "source": [
    "**PRE REQUIS:**  \n",
    "Typage des données simples  \n",
    "structures conditionnelles et bouclées  \n",
    "Typage de données composites : tuples et tableaux  \n"
   ]
  },
  {
   "cell_type": "markdown",
   "metadata": {},
   "source": [
    "# Les fonctions"
   ]
  },
  {
   "cell_type": "markdown",
   "metadata": {},
   "source": [
    "## Lien avec les fonctions mathématiques"
   ]
  },
  {
   "cell_type": "markdown",
   "metadata": {},
   "source": [
    "En math:  \n",
    "Un fonction mathématique se définit par une variable x et renvoie une image notée f(x).  \n",
    "Exemple: f(x) = 2x+1   \n",
    "travail élève: que vaut f(3) ?   "
   ]
  },
  {
   "cell_type": "markdown",
   "metadata": {},
   "source": [
    "En python comment ça se passe ?"
   ]
  },
  {
   "cell_type": "code",
   "execution_count": null,
   "metadata": {},
   "outputs": [],
   "source": [
    "def f(x):\n",
    "    return 2*x+1\n",
    "f(3)"
   ]
  },
  {
   "cell_type": "markdown",
   "metadata": {},
   "source": [
    "Définir la fonction qui correspondrait à g(x)=5x²+3\n",
    "Calculer l'image de 7"
   ]
  },
  {
   "cell_type": "code",
   "execution_count": null,
   "metadata": {},
   "outputs": [],
   "source": [
    "def g(x):\n",
    "    \n",
    "    "
   ]
  },
  {
   "cell_type": "markdown",
   "metadata": {},
   "source": [
    "Ecrire la fonction moyenne qui prend 2 entiers en argument et renvoie la moyenne des 2"
   ]
  },
  {
   "cell_type": "code",
   "execution_count": null,
   "metadata": {},
   "outputs": [],
   "source": [
    "def moyenne(x,y):"
   ]
  },
  {
   "cell_type": "markdown",
   "metadata": {},
   "source": [
    "*En informatique:  \n",
    "Règle de syntaxe: toute fonction commence par le mot clé def nomFonction(argument1,argument2, ...) :\n",
    "Le nom de la fonction doit clairement dentifier son rôle.\n",
    "A proscrire: les règles de nommage sont les mêmes que celles des variables (ne pas commencer par un nombre, ne pas utiliser les noms déjà utilisés par le langage , etc ...)*"
   ]
  },
  {
   "cell_type": "markdown",
   "metadata": {},
   "source": [
    "# Des arguments très divers"
   ]
  },
  {
   "cell_type": "markdown",
   "metadata": {},
   "source": [
    "## Absence d'argument"
   ]
  },
  {
   "cell_type": "code",
   "execution_count": null,
   "metadata": {},
   "outputs": [],
   "source": [
    "def carre ():\n",
    "    N=input(\"Entrez une lettre\")\n",
    "    for j in range (5):\n",
    "        print (N) \n",
    "carre()"
   ]
  },
  {
   "cell_type": "markdown",
   "metadata": {},
   "source": [
    "Ecrire la fonction moyenne qui demande à l'utilisateur la saisie de 2 entiers et qui affiche la moyenne  "
   ]
  },
  {
   "cell_type": "code",
   "execution_count": null,
   "metadata": {},
   "outputs": [],
   "source": [
    "def moyenne():"
   ]
  },
  {
   "cell_type": "markdown",
   "metadata": {},
   "source": [
    "## Arguments de type divers"
   ]
  },
  {
   "cell_type": "code",
   "execution_count": null,
   "metadata": {},
   "outputs": [],
   "source": []
  }
 ],
 "metadata": {
  "kernelspec": {
   "display_name": "Python 3",
   "language": "python",
   "name": "python3"
  },
  "language_info": {
   "codemirror_mode": {
    "name": "ipython",
    "version": 3
   },
   "file_extension": ".py",
   "mimetype": "text/x-python",
   "name": "python",
   "nbconvert_exporter": "python",
   "pygments_lexer": "ipython3",
   "version": "3.6.3"
  }
 },
 "nbformat": 4,
 "nbformat_minor": 2
}
